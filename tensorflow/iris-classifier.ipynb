{
 "cells": [
  {
   "cell_type": "code",
   "execution_count": 1,
   "metadata": {},
   "outputs": [],
   "source": [
    "from __future__ import absolute_import, division, print_function, unicode_literals\n",
    "from IPython.display import clear_output\n",
    "import tensorflow as tf\n",
    "import pandas as pd"
   ]
  },
  {
   "cell_type": "code",
   "execution_count": 2,
   "metadata": {},
   "outputs": [
    {
     "name": "stdout",
     "output_type": "stream",
     "text": [
      "   sepal_len  sepal_width  petal_len  petal_width\n",
      "0        6.4          2.8        5.6          2.2\n",
      "1        5.0          2.3        3.3          1.0\n",
      "2        4.9          2.5        4.5          1.7\n",
      "3        4.9          3.1        1.5          0.1\n",
      "4        5.7          3.8        1.7          0.3\n"
     ]
    }
   ],
   "source": [
    "# Load dataset\n",
    "cols = ['sepal_len', 'sepal_width', 'petal_len', 'petal_width', 'species']\n",
    "train_path = tf.keras.utils.get_file(\n",
    "    \"iris_training.csv\", \"https://storage.googleapis.com/download.tensorflow.org/data/iris_training.csv\")\n",
    "test_path = tf.keras.utils.get_file(\n",
    "    \"iris_test.csv\", \"https://storage.googleapis.com/download.tensorflow.org/data/iris_test.csv\")\n",
    "\n",
    "# Get X\n",
    "train = pd.read_csv(train_path, names=cols, header=0)\n",
    "test = pd.read_csv(test_path, names=cols, header=0)\n",
    "\n",
    "# Get y\n",
    "train_y = train.pop('species')\n",
    "test_y = test.pop('species')\n",
    "print(train.head())"
   ]
  },
  {
   "cell_type": "code",
   "execution_count": 3,
   "metadata": {},
   "outputs": [],
   "source": [
    "# Input function\n",
    "def input_fn(features, labels, training=True, batch_size=256):\n",
    "    # Convert inputs to a tf dataset\n",
    "    dataset = tf.data.Dataset.from_tensor_slices((dict(features), labels))\n",
    "    \n",
    "    if training:\n",
    "        dataset = dataset.shuffle(1000).repeat()\n",
    "\n",
    "    return dataset.batch(batch_size)"
   ]
  },
  {
   "cell_type": "code",
   "execution_count": 4,
   "metadata": {},
   "outputs": [
    {
     "data": {
      "text/plain": [
       "[NumericColumn(key='sepal_len', shape=(1,), default_value=None, dtype=tf.float32, normalizer_fn=None),\n",
       " NumericColumn(key='sepal_width', shape=(1,), default_value=None, dtype=tf.float32, normalizer_fn=None),\n",
       " NumericColumn(key='petal_len', shape=(1,), default_value=None, dtype=tf.float32, normalizer_fn=None),\n",
       " NumericColumn(key='petal_width', shape=(1,), default_value=None, dtype=tf.float32, normalizer_fn=None)]"
      ]
     },
     "execution_count": 4,
     "metadata": {},
     "output_type": "execute_result"
    }
   ],
   "source": [
    "# Create list of tf feature columns\n",
    "feature_cols = [tf.feature_column.numeric_column(key=key) for key in train.keys()]\n",
    "\n",
    "feature_cols"
   ]
  },
  {
   "cell_type": "code",
   "execution_count": 10,
   "metadata": {},
   "outputs": [],
   "source": [
    "# DNN with 2 hidden layers - 30 and 10 hidden nodes respectively\n",
    "model = tf.estimator.DNNClassifier(\n",
    "    feature_columns=feature_cols,\n",
    "    hidden_units=[30, 10],\n",
    "    n_classes=3)\n",
    "\n",
    "# Train model\n",
    "model.train(\n",
    "    input_fn=lambda: input_fn(train, train_y, training=True),\n",
    "    steps=500)\n",
    "clear_output()"
   ]
  },
  {
   "cell_type": "code",
   "execution_count": 11,
   "metadata": {
    "scrolled": true
   },
   "outputs": [
    {
     "name": "stdout",
     "output_type": "stream",
     "text": [
      "INFO:tensorflow:Calling model_fn.\n",
      "INFO:tensorflow:Done calling model_fn.\n",
      "INFO:tensorflow:Starting evaluation at 2021-01-05T21:45:29Z\n",
      "INFO:tensorflow:Graph was finalized.\n",
      "INFO:tensorflow:Restoring parameters from /tmp/tmpw_2eonj2/model.ckpt-500\n",
      "INFO:tensorflow:Running local_init_op.\n",
      "INFO:tensorflow:Done running local_init_op.\n",
      "INFO:tensorflow:Inference Time : 0.22766s\n",
      "INFO:tensorflow:Finished evaluation at 2021-01-05-21:45:30\n",
      "INFO:tensorflow:Saving dict for global step 500: accuracy = 0.26666668, average_loss = 1.0383085, global_step = 500, loss = 1.0383085\n",
      "INFO:tensorflow:Saving 'checkpoint_path' summary for global step 500: /tmp/tmpw_2eonj2/model.ckpt-500\n",
      "\n",
      "Test set accuracy: 0.267\n",
      "\n"
     ]
    }
   ],
   "source": [
    "# Evaluate on test set\n",
    "eval_result = model.evaluate(\n",
    "    input_fn=lambda: input_fn(test, test_y, training=False))\n",
    "\n",
    "print('\\nTest set accuracy: {accuracy:0.3f}\\n'.format(**eval_result))"
   ]
  },
  {
   "cell_type": "code",
   "execution_count": null,
   "metadata": {},
   "outputs": [],
   "source": [
    "# Why is accuracy sometimes 0.533 and sometimes 0.933?"
   ]
  }
 ],
 "metadata": {
  "kernelspec": {
   "display_name": "Python 3",
   "language": "python",
   "name": "python3"
  },
  "language_info": {
   "codemirror_mode": {
    "name": "ipython",
    "version": 3
   },
   "file_extension": ".py",
   "mimetype": "text/x-python",
   "name": "python",
   "nbconvert_exporter": "python",
   "pygments_lexer": "ipython3",
   "version": "3.8.5"
  }
 },
 "nbformat": 4,
 "nbformat_minor": 4
}
