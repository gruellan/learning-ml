{
 "cells": [
  {
   "cell_type": "code",
   "execution_count": 5,
   "metadata": {},
   "outputs": [],
   "source": [
    "import tensorflow as tf"
   ]
  },
  {
   "cell_type": "markdown",
   "metadata": {},
   "source": [
    "### Tensors\n",
    "\"A tensor is a generalization of vectors and matrices to potentially higher dimensions. Internally, TensorFlow represents tensors as n-dimensional arrays of base datatypes.\" \n",
    "\n",
    "Every tensor has a:\n",
    "- Datatype\n",
    "- Shape\n",
    "- Rank/degree = the number of dimensions it has."
   ]
  },
  {
   "cell_type": "code",
   "execution_count": 23,
   "metadata": {},
   "outputs": [
    {
     "name": "stdout",
     "output_type": "stream",
     "text": [
      "scalar rank = tf.Tensor(0, shape=(), dtype=int32)\n",
      "scalar shape = ()\n",
      "rank_1 = tf.Tensor(1, shape=(), dtype=int32)\n",
      "rank_1 shape = (2,)\n",
      "rank_2 (matrix) = tf.Tensor(2, shape=(), dtype=int32)\n",
      "rank_2 shape = (2, 2)\n"
     ]
    }
   ],
   "source": [
    "# Tensor ranks and shapes\n",
    "scalar = tf.Variable(\"this is a string\", tf.string) \n",
    "print(\"scalar rank =\", tf.rank(scalar))\n",
    "print(\"scalar shape =\", scalar.shape)\n",
    "\n",
    "rank_1 = tf.Variable([\"beep\", \"boop\"], tf.string)\n",
    "print(\"rank_1 =\", tf.rank(rank_1))\n",
    "print(\"rank_1 shape =\", rank_1.shape)\n",
    "\n",
    "rank_2 = tf.Variable([[\"beep\", \"boop\"],[\"electric\", \"boogaloo\"]], tf.string)\n",
    "print(\"rank_2 (matrix) =\", tf.rank(rank_2))\n",
    "print(\"rank_2 shape =\", rank_2.shape)"
   ]
  },
  {
   "cell_type": "code",
   "execution_count": 33,
   "metadata": {},
   "outputs": [
    {
     "name": "stdout",
     "output_type": "stream",
     "text": [
      "tf.Tensor(2, shape=(), dtype=int32)\n",
      "(4, 5)\n"
     ]
    }
   ],
   "source": [
    "# Creating a 2D tensor\n",
    "matrix = [[1,2,3,4,5],\n",
    "          [6,7,8,9,10],\n",
    "          [11,12,13,14,15],\n",
    "          [16,17,18,19,20]]\n",
    "\n",
    "tensor = tf.Variable(matrix, dtype=tf.int32) \n",
    "print(tf.rank(tensor))\n",
    "print(tensor.shape)"
   ]
  },
  {
   "cell_type": "code",
   "execution_count": 36,
   "metadata": {},
   "outputs": [
    {
     "name": "stdout",
     "output_type": "stream",
     "text": [
      "tf.Tensor(3, shape=(), dtype=int32)\n",
      "tf.Tensor([1 2 3 4 5], shape=(5,), dtype=int32)\n",
      "tf.Tensor([ 1  6 11 16], shape=(4,), dtype=int32)\n",
      "tf.Tensor(\n",
      "[[ 6  7  8  9 10]\n",
      " [16 17 18 19 20]], shape=(2, 5), dtype=int32)\n",
      "tf.Tensor([ 6 11], shape=(2,), dtype=int32)\n"
     ]
    }
   ],
   "source": [
    "# Now lets select some different rows and columns from our tensor\n",
    "\n",
    "three = tensor[0,2]  # selects the 3rd element from the 1st row\n",
    "print(three)  # -> 3\n",
    "\n",
    "print(tensor[0]) # selects the first row\n",
    " \n",
    "print(tensor[:, 0]) # first column\n",
    "\n",
    "print(tensor[1::2]) # second and fourth row\n",
    " \n",
    "print(tensor[1:3, 0]) # column 1 for rows 2 and 3"
   ]
  }
 ],
 "metadata": {
  "kernelspec": {
   "display_name": "Python 3",
   "language": "python",
   "name": "python3"
  },
  "language_info": {
   "codemirror_mode": {
    "name": "ipython",
    "version": 3
   },
   "file_extension": ".py",
   "mimetype": "text/x-python",
   "name": "python",
   "nbconvert_exporter": "python",
   "pygments_lexer": "ipython3",
   "version": "3.8.5"
  }
 },
 "nbformat": 4,
 "nbformat_minor": 4
}
